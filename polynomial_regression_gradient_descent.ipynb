{
 "cells": [
  {
   "cell_type": "code",
   "execution_count": null,
   "id": "0c803ce7-8b12-4723-b983-3ce91b262178",
   "metadata": {},
   "outputs": [],
   "source": [
    "# import packages\n",
    "\n",
    "from numpy import vander, transpose, invert, array, linspace, sum, zeros, abs, concatenate\n",
    "from numpy.linalg import inv\n",
    "import matplotlib.pyplot as plt\n",
    "from math import isinf\n",
    "from random import uniform"
   ]
  },
  {
   "cell_type": "code",
   "execution_count": null,
   "id": "c61abd4a-79f7-4e04-a2a8-661d6e72d86f",
   "metadata": {},
   "outputs": [],
   "source": [
    "# define target function\n",
    "def h_theta(theta: array, x: array):\n",
    "    return transpose(theta) @ x\n",
    "    \n",
    "# define function that calculates the polynomial coefficients and the squared-error using the normal equations\n",
    "def polynomialRegression(x_coordinates: array, y_coordinates: array, degree: int) -> array :\n",
    "    max_it = 100000\n",
    "    alpha = 0.00005\n",
    "    theta = zeros(degree+1)\n",
    "    error = zeros(max_it)\n",
    "    eps = 0.00000001\n",
    "    \n",
    "    X = vander(x_coordinates, degree+1, increasing=True)\n",
    "    y = y_coordinates\n",
    "    m = len(y)\n",
    "    \n",
    "    for it in range(max_it):\n",
    "        theta_temp = theta.copy()\n",
    "        \n",
    "        for i in range(m):\n",
    "                for j in range(degree+1):\n",
    "                    theta[j] = theta[j] + alpha * (y[i]-h_theta(theta ,X[i]))*X[i][j] \n",
    "            \n",
    "        error[it] = 1/(2*x_coordinates.size) * sum(((X @ theta) - y_coordinates)**2)\n",
    "        \n",
    "        if sum(abs(theta_temp - theta)) < eps:\n",
    "            return theta, error\n",
    "            \n",
    "    return theta, error"
   ]
  },
  {
   "cell_type": "code",
   "execution_count": null,
   "id": "2f4b761b-84ba-4a82-91da-7b36ac9f1b6d",
   "metadata": {},
   "outputs": [],
   "source": [
    "# number of training samples\n",
    "N = 40\n",
    "\n",
    "# random generation of training samples\n",
    "x_coord = array([uniform(0,10) for _ in range(N)])\n",
    "y_coord = array([uniform(0,10) for _ in range(N)])"
   ]
  },
  {
   "cell_type": "code",
   "execution_count": null,
   "id": "75afd7db-207f-44b6-a891-5d20c10dd1db",
   "metadata": {},
   "outputs": [],
   "source": [
    "max_degree = 2\n",
    "\n",
    "fig = plt.figure(figsize=(30,15), facecolor='lightgrey')\n",
    "\n",
    "for i in range(max_degree+1):\n",
    "    degree = i\n",
    "    beta, error = polynomialRegression(x_coord, y_coord, degree)\n",
    "    x = linspace(-0.5,10.5, 100)\n",
    "    y = vander(x, degree+1, increasing=True) @ beta\n",
    "    \n",
    "    plt.subplot(max_degree+1,2 ,2*i+1)\n",
    "    plt.title(f\"degree {degree} (squared error = {round([i for i in error if i != 0][-1],4)})\")\n",
    "    plt.xlim(-1,11)\n",
    "    plt.ylim(-1,11)\n",
    "    plt.xlabel(\"x\")\n",
    "    plt.ylabel(\"y\")\n",
    "    plt.scatter(x_coord, y_coord, color=\"green\")\n",
    "    plt.plot(x, y, color=\"red\")\n",
    "    \n",
    "    plt.subplot(max_degree+1, 2, 2*i+2)\n",
    "    plt.xlim(-2000,102000)\n",
    "    plt.xlabel(\"iteration\")\n",
    "    plt.ylabel(\"squared error\")\n",
    "    plt.plot([i for i in error if i != 0])\n",
    "\n",
    "plt.subplots_adjust(wspace=0.2, hspace=0.4)\n",
    "plt.show()"
   ]
  }
 ],
 "metadata": {
  "kernelspec": {
   "display_name": "Python 3 (ipykernel)",
   "language": "python",
   "name": "python3"
  },
  "language_info": {
   "codemirror_mode": {
    "name": "ipython",
    "version": 3
   },
   "file_extension": ".py",
   "mimetype": "text/x-python",
   "name": "python",
   "nbconvert_exporter": "python",
   "pygments_lexer": "ipython3",
   "version": "3.9.12"
  }
 },
 "nbformat": 4,
 "nbformat_minor": 5
}
